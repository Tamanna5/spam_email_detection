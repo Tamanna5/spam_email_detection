{
 "cells": [
  {
   "cell_type": "code",
   "execution_count": 1,
   "metadata": {
    "_cell_guid": "b1076dfc-b9ad-4769-8c92-a6c4dae69d19",
    "_uuid": "8f2839f25d086af736a60e9eeb907d3b93b6e0e5",
    "execution": {
     "iopub.execute_input": "2025-05-22T06:26:47.725345Z",
     "iopub.status.busy": "2025-05-22T06:26:47.724695Z",
     "iopub.status.idle": "2025-05-22T06:26:48.091122Z",
     "shell.execute_reply": "2025-05-22T06:26:48.090153Z",
     "shell.execute_reply.started": "2025-05-22T06:26:47.725321Z"
    },
    "trusted": true
   },
   "outputs": [
    {
     "name": "stdout",
     "output_type": "stream",
     "text": [
      "/kaggle/input/spam-email-dataset/emails.csv\n"
     ]
    }
   ],
   "source": [
    "# This Python 3 environment comes with many helpful analytics libraries installed\n",
    "# It is defined by the kaggle/python Docker image: https://github.com/kaggle/docker-python\n",
    "# For example, here's several helpful packages to load\n",
    "\n",
    "import numpy as np # linear algebra\n",
    "import pandas as pd # data processing, CSV file I/O (e.g. pd.read_csv)\n",
    "\n",
    "# Input data files are available in the read-only \"../input/\" directory\n",
    "# For example, running this (by clicking run or pressing Shift+Enter) will list all files under the input directory\n",
    "\n",
    "import os\n",
    "for dirname, _, filenames in os.walk('/kaggle/input'):\n",
    "    for filename in filenames:\n",
    "        print(os.path.join(dirname, filename))\n",
    "\n",
    "# You can write up to 20GB to the current directory (/kaggle/working/) that gets preserved as output when you create a version using \"Save & Run All\" \n",
    "# You can also write temporary files to /kaggle/temp/, but they won't be saved outside of the current session"
   ]
  },
  {
   "cell_type": "code",
   "execution_count": 2,
   "metadata": {
    "execution": {
     "iopub.execute_input": "2025-05-22T06:26:49.285215Z",
     "iopub.status.busy": "2025-05-22T06:26:49.284747Z",
     "iopub.status.idle": "2025-05-22T06:26:50.157839Z",
     "shell.execute_reply": "2025-05-22T06:26:50.157167Z",
     "shell.execute_reply.started": "2025-05-22T06:26:49.285189Z"
    },
    "trusted": true
   },
   "outputs": [],
   "source": [
    "import numpy as np\n",
    "import pandas as pd\n",
    "from sklearn.model_selection import train_test_split\n",
    "from sklearn.feature_extraction.text import TfidfVectorizer\n",
    "from sklearn.linear_model import LogisticRegression\n",
    "from sklearn.metrics import accuracy_score"
   ]
  },
  {
   "cell_type": "code",
   "execution_count": 3,
   "metadata": {
    "execution": {
     "iopub.execute_input": "2025-05-22T06:26:50.159482Z",
     "iopub.status.busy": "2025-05-22T06:26:50.159089Z",
     "iopub.status.idle": "2025-05-22T06:26:50.372447Z",
     "shell.execute_reply": "2025-05-22T06:26:50.371677Z",
     "shell.execute_reply.started": "2025-05-22T06:26:50.159461Z"
    },
    "trusted": true
   },
   "outputs": [
    {
     "name": "stdout",
     "output_type": "stream",
     "text": [
      "                                                   text  spam\n",
      "0     Subject: naturally irresistible your corporate...     1\n",
      "1     Subject: the stock trading gunslinger  fanny i...     1\n",
      "2     Subject: unbelievable new homes made easy  im ...     1\n",
      "3     Subject: 4 color printing special  request add...     1\n",
      "4     Subject: do not have money , get software cds ...     1\n",
      "...                                                 ...   ...\n",
      "5723  Subject: re : research and development charges...     0\n",
      "5724  Subject: re : receipts from visit  jim ,  than...     0\n",
      "5725  Subject: re : enron case study update  wow ! a...     0\n",
      "5726  Subject: re : interest  david ,  please , call...     0\n",
      "5727  Subject: news : aurora 5 . 2 update  aurora ve...     0\n",
      "\n",
      "[5728 rows x 2 columns]\n"
     ]
    }
   ],
   "source": [
    "raw_mail_data=pd.read_csv('/kaggle/input/spam-email-dataset/emails.csv')\n",
    "print(raw_mail_data)"
   ]
  },
  {
   "cell_type": "code",
   "execution_count": 4,
   "metadata": {
    "execution": {
     "iopub.execute_input": "2025-05-22T06:26:50.387586Z",
     "iopub.status.busy": "2025-05-22T06:26:50.386840Z",
     "iopub.status.idle": "2025-05-22T06:26:50.394620Z",
     "shell.execute_reply": "2025-05-22T06:26:50.393880Z",
     "shell.execute_reply.started": "2025-05-22T06:26:50.387562Z"
    },
    "trusted": true
   },
   "outputs": [],
   "source": [
    "mail_data=raw_mail_data.where((pd.notnull(raw_mail_data)),'')"
   ]
  },
  {
   "cell_type": "code",
   "execution_count": 5,
   "metadata": {
    "execution": {
     "iopub.execute_input": "2025-05-22T06:26:50.820080Z",
     "iopub.status.busy": "2025-05-22T06:26:50.819424Z",
     "iopub.status.idle": "2025-05-22T06:26:50.837216Z",
     "shell.execute_reply": "2025-05-22T06:26:50.836409Z",
     "shell.execute_reply.started": "2025-05-22T06:26:50.820053Z"
    },
    "trusted": true
   },
   "outputs": [
    {
     "data": {
      "text/html": [
       "<div>\n",
       "<style scoped>\n",
       "    .dataframe tbody tr th:only-of-type {\n",
       "        vertical-align: middle;\n",
       "    }\n",
       "\n",
       "    .dataframe tbody tr th {\n",
       "        vertical-align: top;\n",
       "    }\n",
       "\n",
       "    .dataframe thead th {\n",
       "        text-align: right;\n",
       "    }\n",
       "</style>\n",
       "<table border=\"1\" class=\"dataframe\">\n",
       "  <thead>\n",
       "    <tr style=\"text-align: right;\">\n",
       "      <th></th>\n",
       "      <th>text</th>\n",
       "      <th>spam</th>\n",
       "    </tr>\n",
       "  </thead>\n",
       "  <tbody>\n",
       "    <tr>\n",
       "      <th>0</th>\n",
       "      <td>Subject: naturally irresistible your corporate...</td>\n",
       "      <td>1</td>\n",
       "    </tr>\n",
       "    <tr>\n",
       "      <th>1</th>\n",
       "      <td>Subject: the stock trading gunslinger  fanny i...</td>\n",
       "      <td>1</td>\n",
       "    </tr>\n",
       "    <tr>\n",
       "      <th>2</th>\n",
       "      <td>Subject: unbelievable new homes made easy  im ...</td>\n",
       "      <td>1</td>\n",
       "    </tr>\n",
       "    <tr>\n",
       "      <th>3</th>\n",
       "      <td>Subject: 4 color printing special  request add...</td>\n",
       "      <td>1</td>\n",
       "    </tr>\n",
       "    <tr>\n",
       "      <th>4</th>\n",
       "      <td>Subject: do not have money , get software cds ...</td>\n",
       "      <td>1</td>\n",
       "    </tr>\n",
       "  </tbody>\n",
       "</table>\n",
       "</div>"
      ],
      "text/plain": [
       "                                                text  spam\n",
       "0  Subject: naturally irresistible your corporate...     1\n",
       "1  Subject: the stock trading gunslinger  fanny i...     1\n",
       "2  Subject: unbelievable new homes made easy  im ...     1\n",
       "3  Subject: 4 color printing special  request add...     1\n",
       "4  Subject: do not have money , get software cds ...     1"
      ]
     },
     "execution_count": 5,
     "metadata": {},
     "output_type": "execute_result"
    }
   ],
   "source": [
    "mail_data.head()"
   ]
  },
  {
   "cell_type": "code",
   "execution_count": 6,
   "metadata": {
    "execution": {
     "iopub.execute_input": "2025-05-22T06:26:51.172664Z",
     "iopub.status.busy": "2025-05-22T06:26:51.172049Z",
     "iopub.status.idle": "2025-05-22T06:26:51.178013Z",
     "shell.execute_reply": "2025-05-22T06:26:51.177081Z",
     "shell.execute_reply.started": "2025-05-22T06:26:51.172640Z"
    },
    "trusted": true
   },
   "outputs": [
    {
     "data": {
      "text/plain": [
       "(5728, 2)"
      ]
     },
     "execution_count": 6,
     "metadata": {},
     "output_type": "execute_result"
    }
   ],
   "source": [
    "mail_data.shape"
   ]
  },
  {
   "cell_type": "code",
   "execution_count": 7,
   "metadata": {
    "execution": {
     "iopub.execute_input": "2025-05-22T06:26:51.544742Z",
     "iopub.status.busy": "2025-05-22T06:26:51.544230Z",
     "iopub.status.idle": "2025-05-22T06:26:51.553750Z",
     "shell.execute_reply": "2025-05-22T06:26:51.552799Z",
     "shell.execute_reply.started": "2025-05-22T06:26:51.544717Z"
    },
    "trusted": true
   },
   "outputs": [],
   "source": [
    "mail_data.loc[mail_data['text']=='spam','text',]=0\n",
    "mail_data.loc[mail_data['text']=='spam','text',]=1"
   ]
  },
  {
   "cell_type": "code",
   "execution_count": 8,
   "metadata": {
    "execution": {
     "iopub.execute_input": "2025-05-22T06:26:51.919659Z",
     "iopub.status.busy": "2025-05-22T06:26:51.919359Z",
     "iopub.status.idle": "2025-05-22T06:26:51.924205Z",
     "shell.execute_reply": "2025-05-22T06:26:51.923278Z",
     "shell.execute_reply.started": "2025-05-22T06:26:51.919636Z"
    },
    "trusted": true
   },
   "outputs": [],
   "source": [
    "x=mail_data[\"text\"]\n",
    "y=mail_data[\"spam\"]"
   ]
  },
  {
   "cell_type": "code",
   "execution_count": 9,
   "metadata": {
    "execution": {
     "iopub.execute_input": "2025-05-22T06:26:52.273726Z",
     "iopub.status.busy": "2025-05-22T06:26:52.273434Z",
     "iopub.status.idle": "2025-05-22T06:26:52.279938Z",
     "shell.execute_reply": "2025-05-22T06:26:52.279050Z",
     "shell.execute_reply.started": "2025-05-22T06:26:52.273705Z"
    },
    "trusted": true
   },
   "outputs": [
    {
     "name": "stdout",
     "output_type": "stream",
     "text": [
      "0       Subject: naturally irresistible your corporate...\n",
      "1       Subject: the stock trading gunslinger  fanny i...\n",
      "2       Subject: unbelievable new homes made easy  im ...\n",
      "3       Subject: 4 color printing special  request add...\n",
      "4       Subject: do not have money , get software cds ...\n",
      "                              ...                        \n",
      "5723    Subject: re : research and development charges...\n",
      "5724    Subject: re : receipts from visit  jim ,  than...\n",
      "5725    Subject: re : enron case study update  wow ! a...\n",
      "5726    Subject: re : interest  david ,  please , call...\n",
      "5727    Subject: news : aurora 5 . 2 update  aurora ve...\n",
      "Name: text, Length: 5728, dtype: object\n"
     ]
    }
   ],
   "source": [
    "print(x)"
   ]
  },
  {
   "cell_type": "code",
   "execution_count": 10,
   "metadata": {
    "execution": {
     "iopub.execute_input": "2025-05-22T06:26:52.631884Z",
     "iopub.status.busy": "2025-05-22T06:26:52.631219Z",
     "iopub.status.idle": "2025-05-22T06:26:52.637267Z",
     "shell.execute_reply": "2025-05-22T06:26:52.636261Z",
     "shell.execute_reply.started": "2025-05-22T06:26:52.631833Z"
    },
    "trusted": true
   },
   "outputs": [
    {
     "name": "stdout",
     "output_type": "stream",
     "text": [
      "0       1\n",
      "1       1\n",
      "2       1\n",
      "3       1\n",
      "4       1\n",
      "       ..\n",
      "5723    0\n",
      "5724    0\n",
      "5725    0\n",
      "5726    0\n",
      "5727    0\n",
      "Name: spam, Length: 5728, dtype: int64\n"
     ]
    }
   ],
   "source": [
    "print(y)"
   ]
  },
  {
   "cell_type": "code",
   "execution_count": 14,
   "metadata": {
    "execution": {
     "iopub.execute_input": "2025-05-22T06:29:01.167885Z",
     "iopub.status.busy": "2025-05-22T06:29:01.167247Z",
     "iopub.status.idle": "2025-05-22T06:29:01.176025Z",
     "shell.execute_reply": "2025-05-22T06:29:01.175115Z",
     "shell.execute_reply.started": "2025-05-22T06:29:01.167837Z"
    },
    "trusted": true
   },
   "outputs": [
    {
     "name": "stdout",
     "output_type": "stream",
     "text": [
      "(5728,)\n",
      "(4582,)\n",
      "(1146,)\n"
     ]
    }
   ],
   "source": [
    "# Train-test split\n",
    "x_train, x_test, y_train, y_test = train_test_split(x, y, test_size=0.2, random_state=3)\n",
    "print(x.shape)\n",
    "print(x_train.shape)\n",
    "print(x_test.shape)"
   ]
  },
  {
   "cell_type": "code",
   "execution_count": 15,
   "metadata": {
    "execution": {
     "iopub.execute_input": "2025-05-22T06:29:03.988740Z",
     "iopub.status.busy": "2025-05-22T06:29:03.988113Z",
     "iopub.status.idle": "2025-05-22T06:29:05.009883Z",
     "shell.execute_reply": "2025-05-22T06:29:05.009209Z",
     "shell.execute_reply.started": "2025-05-22T06:29:03.988716Z"
    },
    "trusted": true
   },
   "outputs": [],
   "source": [
    "# Feature extraction - corrected TfidfVectorizer\n",
    "feature_extraction = TfidfVectorizer(min_df=1, stop_words='english', lowercase=True)\n",
    "x_train_features = feature_extraction.fit_transform(x_train)\n",
    "x_test_features = feature_extraction.transform(x_test)"
   ]
  },
  {
   "cell_type": "code",
   "execution_count": 16,
   "metadata": {
    "execution": {
     "iopub.execute_input": "2025-05-22T06:29:07.364964Z",
     "iopub.status.busy": "2025-05-22T06:29:07.364334Z",
     "iopub.status.idle": "2025-05-22T06:29:07.370567Z",
     "shell.execute_reply": "2025-05-22T06:29:07.369628Z",
     "shell.execute_reply.started": "2025-05-22T06:29:07.364941Z"
    },
    "trusted": true
   },
   "outputs": [
    {
     "name": "stdout",
     "output_type": "stream",
     "text": [
      "5700    Subject: re : exploration data as the root of ...\n",
      "5105    Subject: gas model  sorry so much time has pas...\n",
      "5485    Subject: livelink access  - - - - - - - - - - ...\n",
      "5192    Subject: re : video conference scheduling  hel...\n",
      "2651    Subject: re : pending approval for ibuyit requ...\n",
      "                              ...                        \n",
      "789     Subject: cigarettes wholesale ! hywwzzlzd  $ 1...\n",
      "968     Subject: i think you might be interested  hell...\n",
      "1667    Subject: re : summer work . .  jinbaek ,  this...\n",
      "3321    Subject: re : book for lacima course attendees...\n",
      "1688    Subject: re : argentina modelling  michael ,  ...\n",
      "Name: text, Length: 4582, dtype: object\n"
     ]
    }
   ],
   "source": [
    "print(x_train)"
   ]
  },
  {
   "cell_type": "raw",
   "metadata": {},
   "source": [
    "print(x_train_features)"
   ]
  },
  {
   "cell_type": "code",
   "execution_count": 17,
   "metadata": {
    "execution": {
     "iopub.execute_input": "2025-05-22T06:29:17.366964Z",
     "iopub.status.busy": "2025-05-22T06:29:17.366622Z",
     "iopub.status.idle": "2025-05-22T06:29:17.993595Z",
     "shell.execute_reply": "2025-05-22T06:29:17.992795Z",
     "shell.execute_reply.started": "2025-05-22T06:29:17.366939Z"
    },
    "trusted": true
   },
   "outputs": [
    {
     "data": {
      "text/html": [
       "<style>#sk-container-id-1 {color: black;background-color: white;}#sk-container-id-1 pre{padding: 0;}#sk-container-id-1 div.sk-toggleable {background-color: white;}#sk-container-id-1 label.sk-toggleable__label {cursor: pointer;display: block;width: 100%;margin-bottom: 0;padding: 0.3em;box-sizing: border-box;text-align: center;}#sk-container-id-1 label.sk-toggleable__label-arrow:before {content: \"▸\";float: left;margin-right: 0.25em;color: #696969;}#sk-container-id-1 label.sk-toggleable__label-arrow:hover:before {color: black;}#sk-container-id-1 div.sk-estimator:hover label.sk-toggleable__label-arrow:before {color: black;}#sk-container-id-1 div.sk-toggleable__content {max-height: 0;max-width: 0;overflow: hidden;text-align: left;background-color: #f0f8ff;}#sk-container-id-1 div.sk-toggleable__content pre {margin: 0.2em;color: black;border-radius: 0.25em;background-color: #f0f8ff;}#sk-container-id-1 input.sk-toggleable__control:checked~div.sk-toggleable__content {max-height: 200px;max-width: 100%;overflow: auto;}#sk-container-id-1 input.sk-toggleable__control:checked~label.sk-toggleable__label-arrow:before {content: \"▾\";}#sk-container-id-1 div.sk-estimator input.sk-toggleable__control:checked~label.sk-toggleable__label {background-color: #d4ebff;}#sk-container-id-1 div.sk-label input.sk-toggleable__control:checked~label.sk-toggleable__label {background-color: #d4ebff;}#sk-container-id-1 input.sk-hidden--visually {border: 0;clip: rect(1px 1px 1px 1px);clip: rect(1px, 1px, 1px, 1px);height: 1px;margin: -1px;overflow: hidden;padding: 0;position: absolute;width: 1px;}#sk-container-id-1 div.sk-estimator {font-family: monospace;background-color: #f0f8ff;border: 1px dotted black;border-radius: 0.25em;box-sizing: border-box;margin-bottom: 0.5em;}#sk-container-id-1 div.sk-estimator:hover {background-color: #d4ebff;}#sk-container-id-1 div.sk-parallel-item::after {content: \"\";width: 100%;border-bottom: 1px solid gray;flex-grow: 1;}#sk-container-id-1 div.sk-label:hover label.sk-toggleable__label {background-color: #d4ebff;}#sk-container-id-1 div.sk-serial::before {content: \"\";position: absolute;border-left: 1px solid gray;box-sizing: border-box;top: 0;bottom: 0;left: 50%;z-index: 0;}#sk-container-id-1 div.sk-serial {display: flex;flex-direction: column;align-items: center;background-color: white;padding-right: 0.2em;padding-left: 0.2em;position: relative;}#sk-container-id-1 div.sk-item {position: relative;z-index: 1;}#sk-container-id-1 div.sk-parallel {display: flex;align-items: stretch;justify-content: center;background-color: white;position: relative;}#sk-container-id-1 div.sk-item::before, #sk-container-id-1 div.sk-parallel-item::before {content: \"\";position: absolute;border-left: 1px solid gray;box-sizing: border-box;top: 0;bottom: 0;left: 50%;z-index: -1;}#sk-container-id-1 div.sk-parallel-item {display: flex;flex-direction: column;z-index: 1;position: relative;background-color: white;}#sk-container-id-1 div.sk-parallel-item:first-child::after {align-self: flex-end;width: 50%;}#sk-container-id-1 div.sk-parallel-item:last-child::after {align-self: flex-start;width: 50%;}#sk-container-id-1 div.sk-parallel-item:only-child::after {width: 0;}#sk-container-id-1 div.sk-dashed-wrapped {border: 1px dashed gray;margin: 0 0.4em 0.5em 0.4em;box-sizing: border-box;padding-bottom: 0.4em;background-color: white;}#sk-container-id-1 div.sk-label label {font-family: monospace;font-weight: bold;display: inline-block;line-height: 1.2em;}#sk-container-id-1 div.sk-label-container {text-align: center;}#sk-container-id-1 div.sk-container {/* jupyter's `normalize.less` sets `[hidden] { display: none; }` but bootstrap.min.css set `[hidden] { display: none !important; }` so we also need the `!important` here to be able to override the default hidden behavior on the sphinx rendered scikit-learn.org. See: https://github.com/scikit-learn/scikit-learn/issues/21755 */display: inline-block !important;position: relative;}#sk-container-id-1 div.sk-text-repr-fallback {display: none;}</style><div id=\"sk-container-id-1\" class=\"sk-top-container\"><div class=\"sk-text-repr-fallback\"><pre>LogisticRegression()</pre><b>In a Jupyter environment, please rerun this cell to show the HTML representation or trust the notebook. <br />On GitHub, the HTML representation is unable to render, please try loading this page with nbviewer.org.</b></div><div class=\"sk-container\" hidden><div class=\"sk-item\"><div class=\"sk-estimator sk-toggleable\"><input class=\"sk-toggleable__control sk-hidden--visually\" id=\"sk-estimator-id-1\" type=\"checkbox\" checked><label for=\"sk-estimator-id-1\" class=\"sk-toggleable__label sk-toggleable__label-arrow\">LogisticRegression</label><div class=\"sk-toggleable__content\"><pre>LogisticRegression()</pre></div></div></div></div></div>"
      ],
      "text/plain": [
       "LogisticRegression()"
      ]
     },
     "execution_count": 17,
     "metadata": {},
     "output_type": "execute_result"
    }
   ],
   "source": [
    "# Create and train the model\n",
    "model = LogisticRegression()\n",
    "model.fit(x_train_features, y_train)"
   ]
  },
  {
   "cell_type": "code",
   "execution_count": 18,
   "metadata": {
    "execution": {
     "iopub.execute_input": "2025-05-22T06:29:19.221625Z",
     "iopub.status.busy": "2025-05-22T06:29:19.220890Z",
     "iopub.status.idle": "2025-05-22T06:29:19.229339Z",
     "shell.execute_reply": "2025-05-22T06:29:19.228423Z",
     "shell.execute_reply.started": "2025-05-22T06:29:19.221603Z"
    },
    "trusted": true
   },
   "outputs": [
    {
     "name": "stdout",
     "output_type": "stream",
     "text": [
      "Accuracy on training data: 0.9965080750763858\n"
     ]
    }
   ],
   "source": [
    "# Evaluate on training data\n",
    "prediction_on_training_data = model.predict(x_train_features)\n",
    "accuracy_on_training_data = accuracy_score(y_train, prediction_on_training_data)\n",
    "print('Accuracy on training data:', accuracy_on_training_data)"
   ]
  },
  {
   "cell_type": "code",
   "execution_count": 19,
   "metadata": {
    "execution": {
     "iopub.execute_input": "2025-05-22T06:29:22.782327Z",
     "iopub.status.busy": "2025-05-22T06:29:22.781613Z",
     "iopub.status.idle": "2025-05-22T06:29:22.788786Z",
     "shell.execute_reply": "2025-05-22T06:29:22.788058Z",
     "shell.execute_reply.started": "2025-05-22T06:29:22.782300Z"
    },
    "trusted": true
   },
   "outputs": [
    {
     "name": "stdout",
     "output_type": "stream",
     "text": [
      "Accuracy on test data: 0.9834205933682374\n"
     ]
    }
   ],
   "source": [
    "# Evaluate on test data\n",
    "prediction_on_test_data = model.predict(x_test_features)\n",
    "accuracy_on_test_data = accuracy_score(y_test, prediction_on_test_data)\n",
    "print('Accuracy on test data:', accuracy_on_test_data)"
   ]
  },
  {
   "cell_type": "code",
   "execution_count": 20,
   "metadata": {
    "execution": {
     "iopub.execute_input": "2025-05-22T06:29:25.790000Z",
     "iopub.status.busy": "2025-05-22T06:29:25.789669Z",
     "iopub.status.idle": "2025-05-22T06:29:25.798529Z",
     "shell.execute_reply": "2025-05-22T06:29:25.797542Z",
     "shell.execute_reply.started": "2025-05-22T06:29:25.789978Z"
    },
    "trusted": true
   },
   "outputs": [
    {
     "name": "stdout",
     "output_type": "stream",
     "text": [
      "[0]\n",
      "Not Spam mail\n"
     ]
    }
   ],
   "source": [
    "# Predict on a new email\n",
    "input_mail = [\"I've been searching for the right words to thank you for this breather. \"]  # Add an email text here to test\n",
    "input_data_features = feature_extraction.transform(input_mail)\n",
    "prediction = model.predict(input_data_features)\n",
    "print(prediction)\n",
    "\n",
    "# Assuming 1 is spam and 0 is not spam based on your dataset\n",
    "if prediction[0] == 1:\n",
    "    print(\"Spam mail\")\n",
    "else:\n",
    "    print(\"Not Spam mail\")"
   ]
  },
  {
   "cell_type": "markdown",
   "metadata": {},
   "source": [
    "Your account has been compromised. Please enter your personal information to secure it."
   ]
  },
  {
   "cell_type": "markdown",
   "metadata": {},
   "source": [
    "Congratulations! You’ve won a million dollars. Just send us your credit card details to claim your prize."
   ]
  },
  {
   "cell_type": "markdown",
   "metadata": {},
   "source": [
    "Increase your business revenue by 500% with our revolutionary new product. Click on a link to learn more."
   ]
  },
  {
   "cell_type": "code",
   "execution_count": 21,
   "metadata": {
    "execution": {
     "iopub.execute_input": "2025-05-22T06:29:33.177142Z",
     "iopub.status.busy": "2025-05-22T06:29:33.176481Z",
     "iopub.status.idle": "2025-05-22T06:29:42.683769Z",
     "shell.execute_reply": "2025-05-22T06:29:42.682918Z",
     "shell.execute_reply.started": "2025-05-22T06:29:33.177116Z"
    },
    "trusted": true
   },
   "outputs": [
    {
     "name": "stdout",
     "output_type": "stream",
     "text": [
      "Enter the email text to check:  Increase your business revenue by 500% with our revolutionary new product. Click on a link to learn more.\n"
     ]
    },
    {
     "name": "stdout",
     "output_type": "stream",
     "text": [
      "[1]\n",
      "This is a SPAM email\n"
     ]
    }
   ],
   "source": [
    "# Function to classify emails\n",
    "def check_spam():\n",
    "    # Get email input from user\n",
    "    user_input = input(\"Enter the email text to check: \")\n",
    "    input_mail = [user_input]\n",
    "    \n",
    "    # Transform the input\n",
    "    input_data_features = feature_extraction.transform(input_mail)\n",
    "    \n",
    "    # Make prediction\n",
    "    prediction = model.predict(input_data_features)\n",
    "    print(prediction)\n",
    "    \n",
    "    # Display result\n",
    "    if prediction[0] == 1:\n",
    "        print(\"This is a SPAM email\")\n",
    "    else:\n",
    "        print(\"This is NOT a spam email\")\n",
    "\n",
    "# Call the function to start the user input process\n",
    "check_spam()\n",
    "\n",
    "# For multiple checks without rerunning the whole notebook\n",
    "def interactive_check():\n",
    "    while True:\n",
    "        check_spam()\n",
    "        continue_check = input(\"Do you want to check another email? (yes/no): \")\n",
    "        if continue_check.lower() != 'yes':\n",
    "            break"
   ]
  },
  {
   "cell_type": "code",
   "execution_count": null,
   "metadata": {
    "trusted": true
   },
   "outputs": [],
   "source": []
  }
 ],
 "metadata": {
  "kaggle": {
   "accelerator": "none",
   "dataSources": [
    {
     "datasetId": 3690036,
     "sourceId": 6399975,
     "sourceType": "datasetVersion"
    }
   ],
   "dockerImageVersionId": 31040,
   "isGpuEnabled": false,
   "isInternetEnabled": true,
   "language": "python",
   "sourceType": "notebook"
  },
  "kernelspec": {
   "display_name": "Python 3",
   "language": "python",
   "name": "python3"
  },
  "language_info": {
   "codemirror_mode": {
    "name": "ipython",
    "version": 3
   },
   "file_extension": ".py",
   "mimetype": "text/x-python",
   "name": "python",
   "nbconvert_exporter": "python",
   "pygments_lexer": "ipython3",
   "version": "3.11.11"
  }
 },
 "nbformat": 4,
 "nbformat_minor": 4
}
